{
 "cells": [
  {
   "cell_type": "code",
   "execution_count": 43,
   "id": "0e07446d",
   "metadata": {},
   "outputs": [],
   "source": [
    "import pandas as pd\n",
    "import numpy as np\n",
    "from sklearn.preprocessing import StandardScaler\n",
    "from sklearn.decomposition import PCA\n",
    "import hdbscan # type: ignore\n",
    "import matplotlib.pyplot as plt\n",
    "from collections import Counter\n",
    "from sklearn.metrics import adjusted_rand_score, classification_report\n",
    "from sklearn.preprocessing import LabelEncoder\n"
   ]
  },
  {
   "cell_type": "code",
   "execution_count": 44,
   "id": "ab5a6ec5",
   "metadata": {},
   "outputs": [
    {
     "name": "stderr",
     "output_type": "stream",
     "text": [
      "C:\\Users\\shaya\\AppData\\Local\\Temp\\ipykernel_9356\\720906785.py:1: DtypeWarning: Columns (0,1,3,4,5,6,7,8,9,10,11,12,13,14,15,16,17,18,19,20,21,22,23,24,25,26,27,28,29,30,31,32,33,34,35,36,37,38,39,40,41,42,43,44,45,46,47,48,49,50,51,52,53,54,55,56,57,58,59,60,61,62,63,64,65,66,67,68,69,70,71,72,73,74,75,76,77,78) have mixed types. Specify dtype option on import or set low_memory=False.\n",
      "  df = pd.read_csv(\"processed/Friday-16-02-2018_TrafficForML_CICFlowMeter.csv\")\n"
     ]
    }
   ],
   "source": [
    "df = pd.read_csv(\"processed/Friday-16-02-2018_TrafficForML_CICFlowMeter.csv\")"
   ]
  },
  {
   "cell_type": "code",
   "execution_count": 45,
   "id": "e0597c13",
   "metadata": {},
   "outputs": [
    {
     "data": {
      "text/html": [
       "<div>\n",
       "<style scoped>\n",
       "    .dataframe tbody tr th:only-of-type {\n",
       "        vertical-align: middle;\n",
       "    }\n",
       "\n",
       "    .dataframe tbody tr th {\n",
       "        vertical-align: top;\n",
       "    }\n",
       "\n",
       "    .dataframe thead th {\n",
       "        text-align: right;\n",
       "    }\n",
       "</style>\n",
       "<table border=\"1\" class=\"dataframe\">\n",
       "  <thead>\n",
       "    <tr style=\"text-align: right;\">\n",
       "      <th></th>\n",
       "      <th>Dst Port</th>\n",
       "      <th>Protocol</th>\n",
       "      <th>Timestamp</th>\n",
       "      <th>Flow Duration</th>\n",
       "      <th>Tot Fwd Pkts</th>\n",
       "      <th>Tot Bwd Pkts</th>\n",
       "      <th>TotLen Fwd Pkts</th>\n",
       "      <th>TotLen Bwd Pkts</th>\n",
       "      <th>Fwd Pkt Len Max</th>\n",
       "      <th>Fwd Pkt Len Min</th>\n",
       "      <th>...</th>\n",
       "      <th>Fwd Seg Size Min</th>\n",
       "      <th>Active Mean</th>\n",
       "      <th>Active Std</th>\n",
       "      <th>Active Max</th>\n",
       "      <th>Active Min</th>\n",
       "      <th>Idle Mean</th>\n",
       "      <th>Idle Std</th>\n",
       "      <th>Idle Max</th>\n",
       "      <th>Idle Min</th>\n",
       "      <th>Label</th>\n",
       "    </tr>\n",
       "  </thead>\n",
       "  <tbody>\n",
       "    <tr>\n",
       "      <th>0</th>\n",
       "      <td>0</td>\n",
       "      <td>0</td>\n",
       "      <td>16/02/2018 08:27:23</td>\n",
       "      <td>112640768</td>\n",
       "      <td>3</td>\n",
       "      <td>0</td>\n",
       "      <td>0</td>\n",
       "      <td>0</td>\n",
       "      <td>0</td>\n",
       "      <td>0</td>\n",
       "      <td>...</td>\n",
       "      <td>0</td>\n",
       "      <td>0</td>\n",
       "      <td>0.0</td>\n",
       "      <td>0</td>\n",
       "      <td>0</td>\n",
       "      <td>56300000.0</td>\n",
       "      <td>138.592929</td>\n",
       "      <td>56300000</td>\n",
       "      <td>56300000</td>\n",
       "      <td>Benign</td>\n",
       "    </tr>\n",
       "    <tr>\n",
       "      <th>1</th>\n",
       "      <td>0</td>\n",
       "      <td>0</td>\n",
       "      <td>16/02/2018 08:30:12</td>\n",
       "      <td>112641773</td>\n",
       "      <td>3</td>\n",
       "      <td>0</td>\n",
       "      <td>0</td>\n",
       "      <td>0</td>\n",
       "      <td>0</td>\n",
       "      <td>0</td>\n",
       "      <td>...</td>\n",
       "      <td>0</td>\n",
       "      <td>0</td>\n",
       "      <td>0.0</td>\n",
       "      <td>0</td>\n",
       "      <td>0</td>\n",
       "      <td>56300000.0</td>\n",
       "      <td>263.750829</td>\n",
       "      <td>56300000</td>\n",
       "      <td>56300000</td>\n",
       "      <td>Benign</td>\n",
       "    </tr>\n",
       "    <tr>\n",
       "      <th>2</th>\n",
       "      <td>35605</td>\n",
       "      <td>6</td>\n",
       "      <td>16/02/2018 08:26:55</td>\n",
       "      <td>20784143</td>\n",
       "      <td>23</td>\n",
       "      <td>44</td>\n",
       "      <td>2416</td>\n",
       "      <td>1344</td>\n",
       "      <td>240</td>\n",
       "      <td>64</td>\n",
       "      <td>...</td>\n",
       "      <td>20</td>\n",
       "      <td>2624734</td>\n",
       "      <td>0.0</td>\n",
       "      <td>2624734</td>\n",
       "      <td>2624734</td>\n",
       "      <td>9058214.0</td>\n",
       "      <td>0.0</td>\n",
       "      <td>9058214</td>\n",
       "      <td>9058214</td>\n",
       "      <td>Benign</td>\n",
       "    </tr>\n",
       "    <tr>\n",
       "      <th>3</th>\n",
       "      <td>0</td>\n",
       "      <td>0</td>\n",
       "      <td>16/02/2018 08:33:01</td>\n",
       "      <td>112640836</td>\n",
       "      <td>3</td>\n",
       "      <td>0</td>\n",
       "      <td>0</td>\n",
       "      <td>0</td>\n",
       "      <td>0</td>\n",
       "      <td>0</td>\n",
       "      <td>...</td>\n",
       "      <td>0</td>\n",
       "      <td>0</td>\n",
       "      <td>0.0</td>\n",
       "      <td>0</td>\n",
       "      <td>0</td>\n",
       "      <td>56300000.0</td>\n",
       "      <td>82.024387</td>\n",
       "      <td>56300000</td>\n",
       "      <td>56300000</td>\n",
       "      <td>Benign</td>\n",
       "    </tr>\n",
       "    <tr>\n",
       "      <th>4</th>\n",
       "      <td>23</td>\n",
       "      <td>6</td>\n",
       "      <td>16/02/2018 08:27:59</td>\n",
       "      <td>20</td>\n",
       "      <td>1</td>\n",
       "      <td>1</td>\n",
       "      <td>0</td>\n",
       "      <td>0</td>\n",
       "      <td>0</td>\n",
       "      <td>0</td>\n",
       "      <td>...</td>\n",
       "      <td>20</td>\n",
       "      <td>0</td>\n",
       "      <td>0.0</td>\n",
       "      <td>0</td>\n",
       "      <td>0</td>\n",
       "      <td>0.0</td>\n",
       "      <td>0.0</td>\n",
       "      <td>0</td>\n",
       "      <td>0</td>\n",
       "      <td>Benign</td>\n",
       "    </tr>\n",
       "  </tbody>\n",
       "</table>\n",
       "<p>5 rows × 80 columns</p>\n",
       "</div>"
      ],
      "text/plain": [
       "  Dst Port Protocol            Timestamp Flow Duration Tot Fwd Pkts  \\\n",
       "0        0        0  16/02/2018 08:27:23     112640768            3   \n",
       "1        0        0  16/02/2018 08:30:12     112641773            3   \n",
       "2    35605        6  16/02/2018 08:26:55      20784143           23   \n",
       "3        0        0  16/02/2018 08:33:01     112640836            3   \n",
       "4       23        6  16/02/2018 08:27:59            20            1   \n",
       "\n",
       "  Tot Bwd Pkts TotLen Fwd Pkts TotLen Bwd Pkts Fwd Pkt Len Max  \\\n",
       "0            0               0               0               0   \n",
       "1            0               0               0               0   \n",
       "2           44            2416            1344             240   \n",
       "3            0               0               0               0   \n",
       "4            1               0               0               0   \n",
       "\n",
       "  Fwd Pkt Len Min  ... Fwd Seg Size Min Active Mean Active Std Active Max  \\\n",
       "0               0  ...                0           0        0.0          0   \n",
       "1               0  ...                0           0        0.0          0   \n",
       "2              64  ...               20     2624734        0.0    2624734   \n",
       "3               0  ...                0           0        0.0          0   \n",
       "4               0  ...               20           0        0.0          0   \n",
       "\n",
       "  Active Min   Idle Mean    Idle Std  Idle Max  Idle Min   Label  \n",
       "0          0  56300000.0  138.592929  56300000  56300000  Benign  \n",
       "1          0  56300000.0  263.750829  56300000  56300000  Benign  \n",
       "2    2624734   9058214.0         0.0   9058214   9058214  Benign  \n",
       "3          0  56300000.0   82.024387  56300000  56300000  Benign  \n",
       "4          0         0.0         0.0         0         0  Benign  \n",
       "\n",
       "[5 rows x 80 columns]"
      ]
     },
     "execution_count": 45,
     "metadata": {},
     "output_type": "execute_result"
    }
   ],
   "source": [
    "df.head()"
   ]
  },
  {
   "cell_type": "code",
   "execution_count": 46,
   "id": "588d26f9",
   "metadata": {},
   "outputs": [
    {
     "name": "stdout",
     "output_type": "stream",
     "text": [
      "<class 'pandas.core.frame.DataFrame'>\n",
      "RangeIndex: 1048575 entries, 0 to 1048574\n",
      "Data columns (total 80 columns):\n",
      " #   Column             Non-Null Count    Dtype \n",
      "---  ------             --------------    ----- \n",
      " 0   Dst Port           1048575 non-null  object\n",
      " 1   Protocol           1048575 non-null  object\n",
      " 2   Timestamp          1048575 non-null  object\n",
      " 3   Flow Duration      1048575 non-null  object\n",
      " 4   Tot Fwd Pkts       1048575 non-null  object\n",
      " 5   Tot Bwd Pkts       1048575 non-null  object\n",
      " 6   TotLen Fwd Pkts    1048575 non-null  object\n",
      " 7   TotLen Bwd Pkts    1048575 non-null  object\n",
      " 8   Fwd Pkt Len Max    1048575 non-null  object\n",
      " 9   Fwd Pkt Len Min    1048575 non-null  object\n",
      " 10  Fwd Pkt Len Mean   1048575 non-null  object\n",
      " 11  Fwd Pkt Len Std    1048575 non-null  object\n",
      " 12  Bwd Pkt Len Max    1048575 non-null  object\n",
      " 13  Bwd Pkt Len Min    1048575 non-null  object\n",
      " 14  Bwd Pkt Len Mean   1048575 non-null  object\n",
      " 15  Bwd Pkt Len Std    1048575 non-null  object\n",
      " 16  Flow Byts/s        1048575 non-null  object\n",
      " 17  Flow Pkts/s        1048575 non-null  object\n",
      " 18  Flow IAT Mean      1048575 non-null  object\n",
      " 19  Flow IAT Std       1048575 non-null  object\n",
      " 20  Flow IAT Max       1048575 non-null  object\n",
      " 21  Flow IAT Min       1048575 non-null  object\n",
      " 22  Fwd IAT Tot        1048575 non-null  object\n",
      " 23  Fwd IAT Mean       1048575 non-null  object\n",
      " 24  Fwd IAT Std        1048575 non-null  object\n",
      " 25  Fwd IAT Max        1048575 non-null  object\n",
      " 26  Fwd IAT Min        1048575 non-null  object\n",
      " 27  Bwd IAT Tot        1048575 non-null  object\n",
      " 28  Bwd IAT Mean       1048575 non-null  object\n",
      " 29  Bwd IAT Std        1048575 non-null  object\n",
      " 30  Bwd IAT Max        1048575 non-null  object\n",
      " 31  Bwd IAT Min        1048575 non-null  object\n",
      " 32  Fwd PSH Flags      1048575 non-null  object\n",
      " 33  Bwd PSH Flags      1048575 non-null  object\n",
      " 34  Fwd URG Flags      1048575 non-null  object\n",
      " 35  Bwd URG Flags      1048575 non-null  object\n",
      " 36  Fwd Header Len     1048575 non-null  object\n",
      " 37  Bwd Header Len     1048575 non-null  object\n",
      " 38  Fwd Pkts/s         1048575 non-null  object\n",
      " 39  Bwd Pkts/s         1048575 non-null  object\n",
      " 40  Pkt Len Min        1048575 non-null  object\n",
      " 41  Pkt Len Max        1048575 non-null  object\n",
      " 42  Pkt Len Mean       1048575 non-null  object\n",
      " 43  Pkt Len Std        1048575 non-null  object\n",
      " 44  Pkt Len Var        1048575 non-null  object\n",
      " 45  FIN Flag Cnt       1048575 non-null  object\n",
      " 46  SYN Flag Cnt       1048575 non-null  object\n",
      " 47  RST Flag Cnt       1048575 non-null  object\n",
      " 48  PSH Flag Cnt       1048575 non-null  object\n",
      " 49  ACK Flag Cnt       1048575 non-null  object\n",
      " 50  URG Flag Cnt       1048575 non-null  object\n",
      " 51  CWE Flag Count     1048575 non-null  object\n",
      " 52  ECE Flag Cnt       1048575 non-null  object\n",
      " 53  Down/Up Ratio      1048575 non-null  object\n",
      " 54  Pkt Size Avg       1048575 non-null  object\n",
      " 55  Fwd Seg Size Avg   1048575 non-null  object\n",
      " 56  Bwd Seg Size Avg   1048575 non-null  object\n",
      " 57  Fwd Byts/b Avg     1048575 non-null  object\n",
      " 58  Fwd Pkts/b Avg     1048575 non-null  object\n",
      " 59  Fwd Blk Rate Avg   1048575 non-null  object\n",
      " 60  Bwd Byts/b Avg     1048575 non-null  object\n",
      " 61  Bwd Pkts/b Avg     1048575 non-null  object\n",
      " 62  Bwd Blk Rate Avg   1048575 non-null  object\n",
      " 63  Subflow Fwd Pkts   1048575 non-null  object\n",
      " 64  Subflow Fwd Byts   1048575 non-null  object\n",
      " 65  Subflow Bwd Pkts   1048575 non-null  object\n",
      " 66  Subflow Bwd Byts   1048575 non-null  object\n",
      " 67  Init Fwd Win Byts  1048575 non-null  object\n",
      " 68  Init Bwd Win Byts  1048575 non-null  object\n",
      " 69  Fwd Act Data Pkts  1048575 non-null  object\n",
      " 70  Fwd Seg Size Min   1048575 non-null  object\n",
      " 71  Active Mean        1048575 non-null  object\n",
      " 72  Active Std         1048575 non-null  object\n",
      " 73  Active Max         1048575 non-null  object\n",
      " 74  Active Min         1048575 non-null  object\n",
      " 75  Idle Mean          1048575 non-null  object\n",
      " 76  Idle Std           1048575 non-null  object\n",
      " 77  Idle Max           1048575 non-null  object\n",
      " 78  Idle Min           1048575 non-null  object\n",
      " 79  Label              1048575 non-null  object\n",
      "dtypes: object(80)\n",
      "memory usage: 640.0+ MB\n"
     ]
    }
   ],
   "source": [
    "df.info()"
   ]
  },
  {
   "cell_type": "code",
   "execution_count": 47,
   "id": "88c20f07",
   "metadata": {},
   "outputs": [],
   "source": [
    "df = df[df[\"Label\"] != \"Label\"]"
   ]
  },
  {
   "cell_type": "code",
   "execution_count": 48,
   "id": "005a9d7a",
   "metadata": {},
   "outputs": [],
   "source": [
    "df = df.drop(['Dst Port', 'Protocol', 'Timestamp'], axis=1)\n",
    "df_y = df['Label'].copy() # Extract the Label column\n",
    "df_x = df.drop('Label', axis=1).copy() # Extract all other columns as features\n",
    "df_y_binary = df_y.apply(lambda x: 0 if x == 'Benign' else 1)"
   ]
  },
  {
   "cell_type": "code",
   "execution_count": 49,
   "id": "da5cfee7",
   "metadata": {},
   "outputs": [],
   "source": [
    "# Convert features to numeric\n",
    "for col in df_x.columns:\n",
    "    df_x[col] = pd.to_numeric(df_x[col], errors='coerce')"
   ]
  },
  {
   "cell_type": "code",
   "execution_count": 50,
   "id": "4f1563f6",
   "metadata": {},
   "outputs": [
    {
     "data": {
      "text/plain": [
       "Label\n",
       "DoS attacks-Hulk            461912\n",
       "Benign                      446772\n",
       "DoS attacks-SlowHTTPTest    139890\n",
       "Name: count, dtype: int64"
      ]
     },
     "execution_count": 50,
     "metadata": {},
     "output_type": "execute_result"
    }
   ],
   "source": [
    "df_y.value_counts()"
   ]
  },
  {
   "cell_type": "code",
   "execution_count": 51,
   "id": "d5e3c7be",
   "metadata": {},
   "outputs": [],
   "source": [
    "df_x.replace([np.inf, -np.inf], np.nan, inplace=True)\n",
    "for column in df_x.columns:\n",
    "    if df_x[column].isnull().any():\n",
    "        df_x[column].fillna(df_x[column].mean(), inplace=True)\n"
   ]
  },
  {
   "cell_type": "code",
   "execution_count": 52,
   "id": "ffc8b69d",
   "metadata": {},
   "outputs": [],
   "source": [
    "scaler = StandardScaler()\n",
    "X_scaled = scaler.fit_transform(df_x)"
   ]
  },
  {
   "cell_type": "code",
   "execution_count": 53,
   "id": "9e165699",
   "metadata": {},
   "outputs": [
    {
     "name": "stdout",
     "output_type": "stream",
     "text": [
      "Number of PCA components: 13\n"
     ]
    }
   ],
   "source": [
    "pca = PCA(n_components=0.95) # Retain 95% of variance\n",
    "X_pca = pca.fit_transform(X_scaled)\n",
    "print(f\"Number of PCA components: {X_pca.shape[1]}\")"
   ]
  },
  {
   "cell_type": "code",
   "execution_count": 54,
   "id": "ca7c5ab7",
   "metadata": {},
   "outputs": [
    {
     "name": "stdout",
     "output_type": "stream",
     "text": [
      "Number of clusters found: 1459\n",
      "Number of noise points: 48052\n"
     ]
    }
   ],
   "source": [
    "# Initialize HDBSCAN\n",
    "cluster = hdbscan.HDBSCAN(\n",
    "    min_cluster_size=50,      # Minimum size of a cluster\n",
    "    min_samples=10,           # Controls sensitivity to noise\n",
    "    metric='manhattan'        \n",
    ")\n",
    "# Fit the model\n",
    "cluster_labels = cluster.fit_predict(X_pca)  \n",
    "\n",
    "# Print summary\n",
    "print(\"Number of clusters found:\", len(set(cluster_labels)) - (1 if -1 in cluster_labels else 0))\n",
    "print(\"Number of noise points:\", (cluster_labels == -1).sum())"
   ]
  },
  {
   "cell_type": "code",
   "execution_count": null,
   "id": "7ad25062",
   "metadata": {},
   "outputs": [
    {
     "name": "stdout",
     "output_type": "stream",
     "text": [
      "Adjusted Rand Index (Anomaly Mapping): 0.5014439937445507\n",
      "              precision    recall  f1-score   support\n",
      "\n",
      "      Normal       1.00      0.66      0.79    446772\n",
      "     Anomaly       0.80      1.00      0.89    601802\n",
      "\n",
      "    accuracy                           0.85   1048574\n",
      "   macro avg       0.90      0.83      0.84   1048574\n",
      "weighted avg       0.88      0.85      0.85   1048574\n",
      "\n"
     ]
    }
   ],
   "source": [
    "# Map predicted labels for ARI:601802\n",
    "if -1 in cluster_labels and len(set(cluster_labels)) > 1: \n",
    "    most_common_cluster = Counter(cluster_labels[cluster_labels != -1]).most_common(1)[0][0]\n",
    "else: # Handle cases where all are noise or only one cluster\n",
    "    most_common_cluster = cluster_labels[0] if len(cluster_labels) > 0 else 0 \n",
    "\n",
    "y_pred_binary = np.array([0 if label == most_common_cluster else 1 for label in cluster_labels])\n",
    "ari = adjusted_rand_score(df_y_binary, y_pred_binary)\n",
    "print(f\"Adjusted Rand Index (Anomaly Mapping): {ari}\")\n",
    "# Classification report\n",
    "print(classification_report(df_y_binary, y_pred_binary, target_names=['Normal', 'Anomaly']))"
   ]
  },
  {
   "cell_type": "code",
   "execution_count": 62,
   "id": "e3dfb17d",
   "metadata": {},
   "outputs": [
    {
     "data": {
      "image/png": "[encoded data removed]",
      "text/plain": [
       "<Figure size 600x400 with 2 Axes>"
      ]
     },
     "metadata": {},
     "output_type": "display_data"
    }
   ],
   "source": [
    "# Visualize PCA\n",
    "plt.figure(figsize=(6, 4))\n",
    "plt.scatter(X_pca[:, 0], X_pca[:, 1], s=5, c=cluster_labels, cmap='viridis')\n",
    "plt.title('HDBSCAN Clustering (PCA-reduced)')\n",
    "plt.xlabel('Principal Component 1 (PC1)')\n",
    "plt.ylabel('Principal Component 2 (PC2)')\n",
    "plt.colorbar(label='Cluster Label')\n",
    "plt.grid(True)\n",
    "plt.show()"
   ]
  }
 ],
 "metadata": {
  "kernelspec": {
   "display_name": "Python 3",
   "language": "python",
   "name": "python3"
  },
  "language_info": {
   "codemirror_mode": {
    "name": "ipython",
    "version": 3
   },
   "file_extension": ".py",
   "mimetype": "text/x-python",
   "name": "python",
   "nbconvert_exporter": "python",
   "pygments_lexer": "ipython3",
   "version": "3.11.9"
  }
 },
 "nbformat": 4,
 "nbformat_minor": 5
}
