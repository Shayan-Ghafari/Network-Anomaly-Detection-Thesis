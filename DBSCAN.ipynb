{
 "cells": [
  {
   "cell_type": "code",
   "execution_count": 1,
   "id": "c8ef6421",
   "metadata": {},
   "outputs": [],
   "source": [
    "import pandas as pd\n",
    "from sklearn.preprocessing import StandardScaler\n",
    "from sklearn.neighbors import NearestNeighbors\n",
    "from sklearn.decomposition import PCA\n",
    "from sklearn.cluster import DBSCAN\n",
    "from sklearn.metrics import adjusted_rand_score\n",
    "from sklearn.metrics import classification_report\n",
    "import matplotlib.pyplot as plt\n",
    "import numpy as np\n",
    "import warnings"
   ]
  },
  {
   "cell_type": "code",
   "execution_count": 2,
   "id": "cd1ef95d",
   "metadata": {},
   "outputs": [],
   "source": [
    "warnings.filterwarnings('ignore') # Suppress warnings for cleaner output"
   ]
  },
  {
   "cell_type": "code",
   "execution_count": 3,
   "id": "a4d55beb",
   "metadata": {},
   "outputs": [],
   "source": [
    "df = pd.read_csv(\"processed/Friday-16-02-2018_TrafficForML_CICFlowMeter.csv\")"
   ]
  },
  {
   "cell_type": "code",
   "execution_count": 4,
   "id": "a8efabc5",
   "metadata": {},
   "outputs": [
    {
     "data": {
      "text/html": [
       "<div>\n",
       "<style scoped>\n",
       "    .dataframe tbody tr th:only-of-type {\n",
       "        vertical-align: middle;\n",
       "    }\n",
       "\n",
       "    .dataframe tbody tr th {\n",
       "        vertical-align: top;\n",
       "    }\n",
       "\n",
       "    .dataframe thead th {\n",
       "        text-align: right;\n",
       "    }\n",
       "</style>\n",
       "<table border=\"1\" class=\"dataframe\">\n",
       "  <thead>\n",
       "    <tr style=\"text-align: right;\">\n",
       "      <th></th>\n",
       "      <th>Dst Port</th>\n",
       "      <th>Protocol</th>\n",
       "      <th>Timestamp</th>\n",
       "      <th>Flow Duration</th>\n",
       "      <th>Tot Fwd Pkts</th>\n",
       "      <th>Tot Bwd Pkts</th>\n",
       "      <th>TotLen Fwd Pkts</th>\n",
       "      <th>TotLen Bwd Pkts</th>\n",
       "      <th>Fwd Pkt Len Max</th>\n",
       "      <th>Fwd Pkt Len Min</th>\n",
       "      <th>...</th>\n",
       "      <th>Fwd Seg Size Min</th>\n",
       "      <th>Active Mean</th>\n",
       "      <th>Active Std</th>\n",
       "      <th>Active Max</th>\n",
       "      <th>Active Min</th>\n",
       "      <th>Idle Mean</th>\n",
       "      <th>Idle Std</th>\n",
       "      <th>Idle Max</th>\n",
       "      <th>Idle Min</th>\n",
       "      <th>Label</th>\n",
       "    </tr>\n",
       "  </thead>\n",
       "  <tbody>\n",
       "    <tr>\n",
       "      <th>0</th>\n",
       "      <td>0</td>\n",
       "      <td>0</td>\n",
       "      <td>16/02/2018 08:27:23</td>\n",
       "      <td>112640768</td>\n",
       "      <td>3</td>\n",
       "      <td>0</td>\n",
       "      <td>0</td>\n",
       "      <td>0</td>\n",
       "      <td>0</td>\n",
       "      <td>0</td>\n",
       "      <td>...</td>\n",
       "      <td>0</td>\n",
       "      <td>0</td>\n",
       "      <td>0.0</td>\n",
       "      <td>0</td>\n",
       "      <td>0</td>\n",
       "      <td>56300000.0</td>\n",
       "      <td>138.592929</td>\n",
       "      <td>56300000</td>\n",
       "      <td>56300000</td>\n",
       "      <td>Benign</td>\n",
       "    </tr>\n",
       "    <tr>\n",
       "      <th>1</th>\n",
       "      <td>0</td>\n",
       "      <td>0</td>\n",
       "      <td>16/02/2018 08:30:12</td>\n",
       "      <td>112641773</td>\n",
       "      <td>3</td>\n",
       "      <td>0</td>\n",
       "      <td>0</td>\n",
       "      <td>0</td>\n",
       "      <td>0</td>\n",
       "      <td>0</td>\n",
       "      <td>...</td>\n",
       "      <td>0</td>\n",
       "      <td>0</td>\n",
       "      <td>0.0</td>\n",
       "      <td>0</td>\n",
       "      <td>0</td>\n",
       "      <td>56300000.0</td>\n",
       "      <td>263.750829</td>\n",
       "      <td>56300000</td>\n",
       "      <td>56300000</td>\n",
       "      <td>Benign</td>\n",
       "    </tr>\n",
       "    <tr>\n",
       "      <th>2</th>\n",
       "      <td>35605</td>\n",
       "      <td>6</td>\n",
       "      <td>16/02/2018 08:26:55</td>\n",
       "      <td>20784143</td>\n",
       "      <td>23</td>\n",
       "      <td>44</td>\n",
       "      <td>2416</td>\n",
       "      <td>1344</td>\n",
       "      <td>240</td>\n",
       "      <td>64</td>\n",
       "      <td>...</td>\n",
       "      <td>20</td>\n",
       "      <td>2624734</td>\n",
       "      <td>0.0</td>\n",
       "      <td>2624734</td>\n",
       "      <td>2624734</td>\n",
       "      <td>9058214.0</td>\n",
       "      <td>0.0</td>\n",
       "      <td>9058214</td>\n",
       "      <td>9058214</td>\n",
       "      <td>Benign</td>\n",
       "    </tr>\n",
       "    <tr>\n",
       "      <th>3</th>\n",
       "      <td>0</td>\n",
       "      <td>0</td>\n",
       "      <td>16/02/2018 08:33:01</td>\n",
       "      <td>112640836</td>\n",
       "      <td>3</td>\n",
       "      <td>0</td>\n",
       "      <td>0</td>\n",
       "      <td>0</td>\n",
       "      <td>0</td>\n",
       "      <td>0</td>\n",
       "      <td>...</td>\n",
       "      <td>0</td>\n",
       "      <td>0</td>\n",
       "      <td>0.0</td>\n",
       "      <td>0</td>\n",
       "      <td>0</td>\n",
       "      <td>56300000.0</td>\n",
       "      <td>82.024387</td>\n",
       "      <td>56300000</td>\n",
       "      <td>56300000</td>\n",
       "      <td>Benign</td>\n",
       "    </tr>\n",
       "    <tr>\n",
       "      <th>4</th>\n",
       "      <td>23</td>\n",
       "      <td>6</td>\n",
       "      <td>16/02/2018 08:27:59</td>\n",
       "      <td>20</td>\n",
       "      <td>1</td>\n",
       "      <td>1</td>\n",
       "      <td>0</td>\n",
       "      <td>0</td>\n",
       "      <td>0</td>\n",
       "      <td>0</td>\n",
       "      <td>...</td>\n",
       "      <td>20</td>\n",
       "      <td>0</td>\n",
       "      <td>0.0</td>\n",
       "      <td>0</td>\n",
       "      <td>0</td>\n",
       "      <td>0.0</td>\n",
       "      <td>0.0</td>\n",
       "      <td>0</td>\n",
       "      <td>0</td>\n",
       "      <td>Benign</td>\n",
       "    </tr>\n",
       "  </tbody>\n",
       "</table>\n",
       "<p>5 rows × 80 columns</p>\n",
       "</div>"
      ],
      "text/plain": [
       "  Dst Port Protocol            Timestamp Flow Duration Tot Fwd Pkts  \\\n",
       "0        0        0  16/02/2018 08:27:23     112640768            3   \n",
       "1        0        0  16/02/2018 08:30:12     112641773            3   \n",
       "2    35605        6  16/02/2018 08:26:55      20784143           23   \n",
       "3        0        0  16/02/2018 08:33:01     112640836            3   \n",
       "4       23        6  16/02/2018 08:27:59            20            1   \n",
       "\n",
       "  Tot Bwd Pkts TotLen Fwd Pkts TotLen Bwd Pkts Fwd Pkt Len Max  \\\n",
       "0            0               0               0               0   \n",
       "1            0               0               0               0   \n",
       "2           44            2416            1344             240   \n",
       "3            0               0               0               0   \n",
       "4            1               0               0               0   \n",
       "\n",
       "  Fwd Pkt Len Min  ... Fwd Seg Size Min Active Mean Active Std Active Max  \\\n",
       "0               0  ...                0           0        0.0          0   \n",
       "1               0  ...                0           0        0.0          0   \n",
       "2              64  ...               20     2624734        0.0    2624734   \n",
       "3               0  ...                0           0        0.0          0   \n",
       "4               0  ...               20           0        0.0          0   \n",
       "\n",
       "  Active Min   Idle Mean    Idle Std  Idle Max  Idle Min   Label  \n",
       "0          0  56300000.0  138.592929  56300000  56300000  Benign  \n",
       "1          0  56300000.0  263.750829  56300000  56300000  Benign  \n",
       "2    2624734   9058214.0         0.0   9058214   9058214  Benign  \n",
       "3          0  56300000.0   82.024387  56300000  56300000  Benign  \n",
       "4          0         0.0         0.0         0         0  Benign  \n",
       "\n",
       "[5 rows x 80 columns]"
      ]
     },
     "execution_count": 4,
     "metadata": {},
     "output_type": "execute_result"
    }
   ],
   "source": [
    "df.head()"
   ]
  },
  {
   "cell_type": "code",
   "execution_count": 5,
   "id": "17193a98",
   "metadata": {},
   "outputs": [
    {
     "data": {
      "text/plain": [
       "Label\n",
       "DoS attacks-Hulk            461912\n",
       "Benign                      446772\n",
       "DoS attacks-SlowHTTPTest    139890\n",
       "Label                            1\n",
       "Name: count, dtype: int64"
      ]
     },
     "execution_count": 5,
     "metadata": {},
     "output_type": "execute_result"
    }
   ],
   "source": [
    "df[\"Label\"].value_counts()"
   ]
  },
  {
   "cell_type": "code",
   "execution_count": 6,
   "id": "5bab1865",
   "metadata": {},
   "outputs": [],
   "source": [
    "df = df[df[\"Label\"] != \"Label\"]"
   ]
  },
  {
   "cell_type": "code",
   "execution_count": 7,
   "id": "9c7493bb",
   "metadata": {},
   "outputs": [
    {
     "name": "stdout",
     "output_type": "stream",
     "text": [
      "<class 'pandas.core.frame.DataFrame'>\n",
      "Index: 1048574 entries, 0 to 1048574\n",
      "Data columns (total 80 columns):\n",
      " #   Column             Non-Null Count    Dtype \n",
      "---  ------             --------------    ----- \n",
      " 0   Dst Port           1048574 non-null  object\n",
      " 1   Protocol           1048574 non-null  object\n",
      " 2   Timestamp          1048574 non-null  object\n",
      " 3   Flow Duration      1048574 non-null  object\n",
      " 4   Tot Fwd Pkts       1048574 non-null  object\n",
      " 5   Tot Bwd Pkts       1048574 non-null  object\n",
      " 6   TotLen Fwd Pkts    1048574 non-null  object\n",
      " 7   TotLen Bwd Pkts    1048574 non-null  object\n",
      " 8   Fwd Pkt Len Max    1048574 non-null  object\n",
      " 9   Fwd Pkt Len Min    1048574 non-null  object\n",
      " 10  Fwd Pkt Len Mean   1048574 non-null  object\n",
      " 11  Fwd Pkt Len Std    1048574 non-null  object\n",
      " 12  Bwd Pkt Len Max    1048574 non-null  object\n",
      " 13  Bwd Pkt Len Min    1048574 non-null  object\n",
      " 14  Bwd Pkt Len Mean   1048574 non-null  object\n",
      " 15  Bwd Pkt Len Std    1048574 non-null  object\n",
      " 16  Flow Byts/s        1048574 non-null  object\n",
      " 17  Flow Pkts/s        1048574 non-null  object\n",
      " 18  Flow IAT Mean      1048574 non-null  object\n",
      " 19  Flow IAT Std       1048574 non-null  object\n",
      " 20  Flow IAT Max       1048574 non-null  object\n",
      " 21  Flow IAT Min       1048574 non-null  object\n",
      " 22  Fwd IAT Tot        1048574 non-null  object\n",
      " 23  Fwd IAT Mean       1048574 non-null  object\n",
      " 24  Fwd IAT Std        1048574 non-null  object\n",
      " 25  Fwd IAT Max        1048574 non-null  object\n",
      " 26  Fwd IAT Min        1048574 non-null  object\n",
      " 27  Bwd IAT Tot        1048574 non-null  object\n",
      " 28  Bwd IAT Mean       1048574 non-null  object\n",
      " 29  Bwd IAT Std        1048574 non-null  object\n",
      " 30  Bwd IAT Max        1048574 non-null  object\n",
      " 31  Bwd IAT Min        1048574 non-null  object\n",
      " 32  Fwd PSH Flags      1048574 non-null  object\n",
      " 33  Bwd PSH Flags      1048574 non-null  object\n",
      " 34  Fwd URG Flags      1048574 non-null  object\n",
      " 35  Bwd URG Flags      1048574 non-null  object\n",
      " 36  Fwd Header Len     1048574 non-null  object\n",
      " 37  Bwd Header Len     1048574 non-null  object\n",
      " 38  Fwd Pkts/s         1048574 non-null  object\n",
      " 39  Bwd Pkts/s         1048574 non-null  object\n",
      " 40  Pkt Len Min        1048574 non-null  object\n",
      " 41  Pkt Len Max        1048574 non-null  object\n",
      " 42  Pkt Len Mean       1048574 non-null  object\n",
      " 43  Pkt Len Std        1048574 non-null  object\n",
      " 44  Pkt Len Var        1048574 non-null  object\n",
      " 45  FIN Flag Cnt       1048574 non-null  object\n",
      " 46  SYN Flag Cnt       1048574 non-null  object\n",
      " 47  RST Flag Cnt       1048574 non-null  object\n",
      " 48  PSH Flag Cnt       1048574 non-null  object\n",
      " 49  ACK Flag Cnt       1048574 non-null  object\n",
      " 50  URG Flag Cnt       1048574 non-null  object\n",
      " 51  CWE Flag Count     1048574 non-null  object\n",
      " 52  ECE Flag Cnt       1048574 non-null  object\n",
      " 53  Down/Up Ratio      1048574 non-null  object\n",
      " 54  Pkt Size Avg       1048574 non-null  object\n",
      " 55  Fwd Seg Size Avg   1048574 non-null  object\n",
      " 56  Bwd Seg Size Avg   1048574 non-null  object\n",
      " 57  Fwd Byts/b Avg     1048574 non-null  object\n",
      " 58  Fwd Pkts/b Avg     1048574 non-null  object\n",
      " 59  Fwd Blk Rate Avg   1048574 non-null  object\n",
      " 60  Bwd Byts/b Avg     1048574 non-null  object\n",
      " 61  Bwd Pkts/b Avg     1048574 non-null  object\n",
      " 62  Bwd Blk Rate Avg   1048574 non-null  object\n",
      " 63  Subflow Fwd Pkts   1048574 non-null  object\n",
      " 64  Subflow Fwd Byts   1048574 non-null  object\n",
      " 65  Subflow Bwd Pkts   1048574 non-null  object\n",
      " 66  Subflow Bwd Byts   1048574 non-null  object\n",
      " 67  Init Fwd Win Byts  1048574 non-null  object\n",
      " 68  Init Bwd Win Byts  1048574 non-null  object\n",
      " 69  Fwd Act Data Pkts  1048574 non-null  object\n",
      " 70  Fwd Seg Size Min   1048574 non-null  object\n",
      " 71  Active Mean        1048574 non-null  object\n",
      " 72  Active Std         1048574 non-null  object\n",
      " 73  Active Max         1048574 non-null  object\n",
      " 74  Active Min         1048574 non-null  object\n",
      " 75  Idle Mean          1048574 non-null  object\n",
      " 76  Idle Std           1048574 non-null  object\n",
      " 77  Idle Max           1048574 non-null  object\n",
      " 78  Idle Min           1048574 non-null  object\n",
      " 79  Label              1048574 non-null  object\n",
      "dtypes: object(80)\n",
      "memory usage: 648.0+ MB\n"
     ]
    }
   ],
   "source": [
    "df.info()"
   ]
  },
  {
   "cell_type": "code",
   "execution_count": 8,
   "id": "92f78bfe",
   "metadata": {},
   "outputs": [
    {
     "data": {
      "text/plain": [
       "Dst Port         0\n",
       "Protocol         0\n",
       "Timestamp        0\n",
       "Flow Duration    0\n",
       "Tot Fwd Pkts     0\n",
       "                ..\n",
       "Idle Mean        0\n",
       "Idle Std         0\n",
       "Idle Max         0\n",
       "Idle Min         0\n",
       "Label            0\n",
       "Length: 80, dtype: int64"
      ]
     },
     "execution_count": 8,
     "metadata": {},
     "output_type": "execute_result"
    }
   ],
   "source": [
    "df.isin([\"Infinity\", \"-Infinity\"]).sum()"
   ]
  },
  {
   "cell_type": "code",
   "execution_count": 9,
   "id": "f71d8187",
   "metadata": {},
   "outputs": [],
   "source": [
    "df_processed  = df[df['Label'].isin(['Benign', 'DoS attacks-Hulk'])].sample(100000, random_state=42).copy()"
   ]
  },
  {
   "cell_type": "code",
   "execution_count": 10,
   "id": "ba1d3c7a",
   "metadata": {},
   "outputs": [],
   "source": [
    "df_processed = df_processed.drop(['Dst Port', 'Protocol', 'Timestamp'], axis=1)\n",
    "df_y = df_processed['Label'].copy() # Extract the Label column\n",
    "df_x = df_processed.drop('Label', axis=1).copy() # Extract all other columns as features\n",
    "df_y_binary = df_y.apply(lambda x: 0 if x == 'Benign' else 1)"
   ]
  },
  {
   "cell_type": "code",
   "execution_count": 11,
   "id": "882d64f4",
   "metadata": {},
   "outputs": [],
   "source": [
    "# Convert features to numeric\n",
    "for col in df_x.columns:\n",
    "    df_x[col] = pd.to_numeric(df_x[col], errors='coerce')"
   ]
  },
  {
   "cell_type": "code",
   "execution_count": 12,
   "id": "0f218498",
   "metadata": {},
   "outputs": [],
   "source": [
    "scaler = StandardScaler()\n",
    "df_scaled = scaler.fit_transform(df_x)"
   ]
  },
  {
   "cell_type": "code",
   "execution_count": 13,
   "id": "f7a987a7",
   "metadata": {},
   "outputs": [],
   "source": [
    "pca = PCA(n_components=0.95)\n",
    "df_pca = pca.fit_transform(df_scaled)"
   ]
  },
  {
   "cell_type": "code",
   "execution_count": 14,
   "id": "4b917a21",
   "metadata": {},
   "outputs": [
    {
     "name": "stdout",
     "output_type": "stream",
     "text": [
      "Cumulative explained variance ratio: [0.38494314 0.57243956 0.64964092 0.7155048  0.76408271 0.80919652\n",
      " 0.8403255  0.87107667 0.89412842 0.9151542  0.93232756 0.94758707\n",
      " 0.96268439]\n"
     ]
    }
   ],
   "source": [
    "# Cumulative explained variance ratio\n",
    "cumulative_variance_ratio = np.cumsum(pca.explained_variance_ratio_)\n",
    "print(\"Cumulative explained variance ratio:\", cumulative_variance_ratio)"
   ]
  },
  {
   "cell_type": "code",
   "execution_count": 15,
   "id": "754e29ae",
   "metadata": {},
   "outputs": [],
   "source": [
    "k = 26\n",
    "nbrs = NearestNeighbors(n_neighbors=k)\n",
    "nbrs.fit(df_pca)\n",
    "distances, _ = nbrs.kneighbors(df_pca)\n",
    "distances = np.sort(distances[:, k - 1])"
   ]
  },
  {
   "cell_type": "code",
   "execution_count": 16,
   "id": "5d4948e2",
   "metadata": {},
   "outputs": [
    {
     "data": {
      "image/png": "[encoded data removed]",
      "text/plain": [
       "<Figure size 600x400 with 1 Axes>"
      ]
     },
     "metadata": {},
     "output_type": "display_data"
    }
   ],
   "source": [
    "plt.figure(figsize=(6, 4))\n",
    "plt.plot(distances)\n",
    "plt.ylabel(f\"{k}-distance\")\n",
    "plt.xlabel(\"Sorted Data Points\")\n",
    "plt.title(\"K-Distance Graph\")\n",
    "plt.grid(True)\n",
    "plt.show()"
   ]
  },
  {
   "cell_type": "code",
   "execution_count": 17,
   "id": "47015fe9",
   "metadata": {},
   "outputs": [],
   "source": [
    "db = DBSCAN(eps=0.5, min_samples=k)\n",
    "labels = db.fit_predict(df_pca)"
   ]
  },
  {
   "cell_type": "code",
   "execution_count": 18,
   "id": "8c515daf",
   "metadata": {},
   "outputs": [
    {
     "data": {
      "image/png": "[encoded data removed]",
      "text/plain": [
       "<Figure size 600x400 with 1 Axes>"
      ]
     },
     "metadata": {},
     "output_type": "display_data"
    }
   ],
   "source": [
    "plt.figure(figsize=(6, 4))\n",
    "plt.scatter(df_pca[:, 0], df_pca[:, 1], c=labels, cmap='plasma', s=2)\n",
    "plt.title(\"DBSCAN Clustering on PCA-Reduced Features\")\n",
    "plt.xlabel(\"PCA 1\")\n",
    "plt.ylabel(\"PCA 2\")\n",
    "plt.grid(True)\n",
    "plt.show()"
   ]
  },
  {
   "cell_type": "code",
   "execution_count": 19,
   "id": "43c3ca5a",
   "metadata": {},
   "outputs": [
    {
     "name": "stdout",
     "output_type": "stream",
     "text": [
      "Adjusted Rand Index (ARI): 0.0001654146085402957\n",
      "              precision    recall  f1-score   support\n",
      "\n",
      "      Normal       0.49      0.99      0.65     48971\n",
      "     Anomaly       0.41      0.01      0.02     51029\n",
      "\n",
      "    accuracy                           0.49    100000\n",
      "   macro avg       0.45      0.50      0.33    100000\n",
      "weighted avg       0.45      0.49      0.33    100000\n",
      "\n"
     ]
    }
   ],
   "source": [
    "y_pred_binary = np.where(labels == -1, 1, 0) # Predicted 1 for Anomaly, 0 for Normal\n",
    "print(\"Adjusted Rand Index (ARI):\", adjusted_rand_score(df_y_binary, y_pred_binary))\n",
    "\n",
    "print(classification_report(df_y_binary, y_pred_binary, target_names=['Normal', 'Anomaly'], zero_division=0))\n",
    "\n"
   ]
  }
 ],
 "metadata": {
  "kernelspec": {
   "display_name": "Python 3",
   "language": "python",
   "name": "python3"
  },
  "language_info": {
   "codemirror_mode": {
    "name": "ipython",
    "version": 3
   },
   "file_extension": ".py",
   "mimetype": "text/x-python",
   "name": "python",
   "nbconvert_exporter": "python",
   "pygments_lexer": "ipython3",
   "version": "3.11.9"
  }
 },
 "nbformat": 4,
 "nbformat_minor": 5
}
