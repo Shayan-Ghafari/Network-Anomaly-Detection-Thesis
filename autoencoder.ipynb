{
 "cells": [
  {
   "cell_type": "code",
   "execution_count": 1,
   "id": "8a349890",
   "metadata": {},
   "outputs": [],
   "source": [
    "import pandas as pd\n",
    "import numpy as np\n",
    "from sklearn.preprocessing import StandardScaler\n",
    "from sklearn.metrics import roc_auc_score, classification_report\n",
    "from tensorflow.keras.models import Model\n",
    "from tensorflow.keras.layers import Input, Dense\n",
    "from tensorflow.keras.optimizers import Adam\n",
    "import os\n",
    "import joblib # For saving/loading scikit-learn objects\n",
    "import json # For saving/loading threshold\n",
    "import warnings"
   ]
  },
  {
   "cell_type": "code",
   "execution_count": 2,
   "id": "a187ecbb",
   "metadata": {},
   "outputs": [],
   "source": [
    "#  Configuration for Saving\n",
    "save_dir = \"trained_models_and_params\" #where trained models and parameters saved\n",
    "os.makedirs(save_dir, exist_ok=True)"
   ]
  },
  {
   "cell_type": "code",
   "execution_count": 3,
   "id": "eeccdb01",
   "metadata": {},
   "outputs": [],
   "source": [
    "warnings.filterwarnings('ignore') # Suppress warnings for cleaner output"
   ]
  },
  {
   "cell_type": "code",
   "execution_count": 4,
   "id": "b85a7ee4",
   "metadata": {},
   "outputs": [],
   "source": [
    "df = pd.read_csv(\"processed/Friday-16-02-2018_TrafficForML_CICFlowMeter.csv\")"
   ]
  },
  {
   "cell_type": "code",
   "execution_count": 5,
   "id": "81ae80da",
   "metadata": {},
   "outputs": [
    {
     "name": "stdout",
     "output_type": "stream",
     "text": [
      "<class 'pandas.core.frame.DataFrame'>\n",
      "RangeIndex: 1048575 entries, 0 to 1048574\n",
      "Data columns (total 80 columns):\n",
      " #   Column             Non-Null Count    Dtype \n",
      "---  ------             --------------    ----- \n",
      " 0   Dst Port           1048575 non-null  object\n",
      " 1   Protocol           1048575 non-null  object\n",
      " 2   Timestamp          1048575 non-null  object\n",
      " 3   Flow Duration      1048575 non-null  object\n",
      " 4   Tot Fwd Pkts       1048575 non-null  object\n",
      " 5   Tot Bwd Pkts       1048575 non-null  object\n",
      " 6   TotLen Fwd Pkts    1048575 non-null  object\n",
      " 7   TotLen Bwd Pkts    1048575 non-null  object\n",
      " 8   Fwd Pkt Len Max    1048575 non-null  object\n",
      " 9   Fwd Pkt Len Min    1048575 non-null  object\n",
      " 10  Fwd Pkt Len Mean   1048575 non-null  object\n",
      " 11  Fwd Pkt Len Std    1048575 non-null  object\n",
      " 12  Bwd Pkt Len Max    1048575 non-null  object\n",
      " 13  Bwd Pkt Len Min    1048575 non-null  object\n",
      " 14  Bwd Pkt Len Mean   1048575 non-null  object\n",
      " 15  Bwd Pkt Len Std    1048575 non-null  object\n",
      " 16  Flow Byts/s        1048575 non-null  object\n",
      " 17  Flow Pkts/s        1048575 non-null  object\n",
      " 18  Flow IAT Mean      1048575 non-null  object\n",
      " 19  Flow IAT Std       1048575 non-null  object\n",
      " 20  Flow IAT Max       1048575 non-null  object\n",
      " 21  Flow IAT Min       1048575 non-null  object\n",
      " 22  Fwd IAT Tot        1048575 non-null  object\n",
      " 23  Fwd IAT Mean       1048575 non-null  object\n",
      " 24  Fwd IAT Std        1048575 non-null  object\n",
      " 25  Fwd IAT Max        1048575 non-null  object\n",
      " 26  Fwd IAT Min        1048575 non-null  object\n",
      " 27  Bwd IAT Tot        1048575 non-null  object\n",
      " 28  Bwd IAT Mean       1048575 non-null  object\n",
      " 29  Bwd IAT Std        1048575 non-null  object\n",
      " 30  Bwd IAT Max        1048575 non-null  object\n",
      " 31  Bwd IAT Min        1048575 non-null  object\n",
      " 32  Fwd PSH Flags      1048575 non-null  object\n",
      " 33  Bwd PSH Flags      1048575 non-null  object\n",
      " 34  Fwd URG Flags      1048575 non-null  object\n",
      " 35  Bwd URG Flags      1048575 non-null  object\n",
      " 36  Fwd Header Len     1048575 non-null  object\n",
      " 37  Bwd Header Len     1048575 non-null  object\n",
      " 38  Fwd Pkts/s         1048575 non-null  object\n",
      " 39  Bwd Pkts/s         1048575 non-null  object\n",
      " 40  Pkt Len Min        1048575 non-null  object\n",
      " 41  Pkt Len Max        1048575 non-null  object\n",
      " 42  Pkt Len Mean       1048575 non-null  object\n",
      " 43  Pkt Len Std        1048575 non-null  object\n",
      " 44  Pkt Len Var        1048575 non-null  object\n",
      " 45  FIN Flag Cnt       1048575 non-null  object\n",
      " 46  SYN Flag Cnt       1048575 non-null  object\n",
      " 47  RST Flag Cnt       1048575 non-null  object\n",
      " 48  PSH Flag Cnt       1048575 non-null  object\n",
      " 49  ACK Flag Cnt       1048575 non-null  object\n",
      " 50  URG Flag Cnt       1048575 non-null  object\n",
      " 51  CWE Flag Count     1048575 non-null  object\n",
      " 52  ECE Flag Cnt       1048575 non-null  object\n",
      " 53  Down/Up Ratio      1048575 non-null  object\n",
      " 54  Pkt Size Avg       1048575 non-null  object\n",
      " 55  Fwd Seg Size Avg   1048575 non-null  object\n",
      " 56  Bwd Seg Size Avg   1048575 non-null  object\n",
      " 57  Fwd Byts/b Avg     1048575 non-null  object\n",
      " 58  Fwd Pkts/b Avg     1048575 non-null  object\n",
      " 59  Fwd Blk Rate Avg   1048575 non-null  object\n",
      " 60  Bwd Byts/b Avg     1048575 non-null  object\n",
      " 61  Bwd Pkts/b Avg     1048575 non-null  object\n",
      " 62  Bwd Blk Rate Avg   1048575 non-null  object\n",
      " 63  Subflow Fwd Pkts   1048575 non-null  object\n",
      " 64  Subflow Fwd Byts   1048575 non-null  object\n",
      " 65  Subflow Bwd Pkts   1048575 non-null  object\n",
      " 66  Subflow Bwd Byts   1048575 non-null  object\n",
      " 67  Init Fwd Win Byts  1048575 non-null  object\n",
      " 68  Init Bwd Win Byts  1048575 non-null  object\n",
      " 69  Fwd Act Data Pkts  1048575 non-null  object\n",
      " 70  Fwd Seg Size Min   1048575 non-null  object\n",
      " 71  Active Mean        1048575 non-null  object\n",
      " 72  Active Std         1048575 non-null  object\n",
      " 73  Active Max         1048575 non-null  object\n",
      " 74  Active Min         1048575 non-null  object\n",
      " 75  Idle Mean          1048575 non-null  object\n",
      " 76  Idle Std           1048575 non-null  object\n",
      " 77  Idle Max           1048575 non-null  object\n",
      " 78  Idle Min           1048575 non-null  object\n",
      " 79  Label              1048575 non-null  object\n",
      "dtypes: object(80)\n",
      "memory usage: 640.0+ MB\n"
     ]
    }
   ],
   "source": [
    "df.info()"
   ]
  },
  {
   "cell_type": "code",
   "execution_count": 6,
   "id": "3907ba0f",
   "metadata": {},
   "outputs": [
    {
     "data": {
      "text/plain": [
       "Label\n",
       "DoS attacks-Hulk            461912\n",
       "Benign                      446772\n",
       "DoS attacks-SlowHTTPTest    139890\n",
       "Label                            1\n",
       "Name: count, dtype: int64"
      ]
     },
     "execution_count": 6,
     "metadata": {},
     "output_type": "execute_result"
    }
   ],
   "source": [
    "df[\"Label\"].value_counts()"
   ]
  },
  {
   "cell_type": "code",
   "execution_count": 7,
   "id": "8c5e3af9",
   "metadata": {},
   "outputs": [],
   "source": [
    "df = df[df[\"Label\"] != \"Label\"]"
   ]
  },
  {
   "cell_type": "code",
   "execution_count": 8,
   "id": "f7902b14",
   "metadata": {},
   "outputs": [
    {
     "data": {
      "text/plain": [
       "Label\n",
       "DoS attacks-Hulk            461912\n",
       "Benign                      446772\n",
       "DoS attacks-SlowHTTPTest    139890\n",
       "Name: count, dtype: int64"
      ]
     },
     "execution_count": 8,
     "metadata": {},
     "output_type": "execute_result"
    }
   ],
   "source": [
    "df[\"Label\"].value_counts()"
   ]
  },
  {
   "cell_type": "code",
   "execution_count": 9,
   "id": "23baf564",
   "metadata": {},
   "outputs": [],
   "source": [
    "df = df.drop(['Dst Port', 'Protocol', 'Timestamp'], axis=1)\n",
    "df_y = df['Label'].copy() # Extract the Label column\n",
    "df_x = df.drop('Label', axis=1).copy() # Extract all other columns as features\n",
    "df_y_binary = df_y.apply(lambda x: 0 if x == 'Benign' else 1)"
   ]
  },
  {
   "cell_type": "code",
   "execution_count": 10,
   "id": "2f5ed1cf",
   "metadata": {},
   "outputs": [],
   "source": [
    "# Convert features to numeric\n",
    "for col in df_x.columns:\n",
    "    df_x[col] = pd.to_numeric(df_x[col], errors='coerce')"
   ]
  },
  {
   "cell_type": "code",
   "execution_count": 11,
   "id": "70fb4743",
   "metadata": {},
   "outputs": [],
   "source": [
    "# Handle infinite values\n",
    "df_x.replace([np.inf, -np.inf], np.nan, inplace=True)"
   ]
  },
  {
   "cell_type": "code",
   "execution_count": 12,
   "id": "d298f53b",
   "metadata": {},
   "outputs": [
    {
     "data": {
      "text/plain": [
       "Flow Duration      0\n",
       "Tot Fwd Pkts       0\n",
       "Tot Bwd Pkts       0\n",
       "TotLen Fwd Pkts    0\n",
       "TotLen Bwd Pkts    0\n",
       "                  ..\n",
       "Active Min         0\n",
       "Idle Mean          0\n",
       "Idle Std           0\n",
       "Idle Max           0\n",
       "Idle Min           0\n",
       "Length: 76, dtype: int64"
      ]
     },
     "execution_count": 12,
     "metadata": {},
     "output_type": "execute_result"
    }
   ],
   "source": [
    "df_x.isnull().sum()"
   ]
  },
  {
   "cell_type": "code",
   "execution_count": 13,
   "id": "42dd7c9d",
   "metadata": {},
   "outputs": [
    {
     "name": "stdout",
     "output_type": "stream",
     "text": [
      "StandardScaler fitted and saved to trained_models_and_params\\fitted_scaler.pkl\n"
     ]
    }
   ],
   "source": [
    "# Scale the features\n",
    "scaler = StandardScaler()\n",
    "scaler.fit(df_x)\n",
    "# Save the scaler for later use\n",
    "joblib.dump(scaler, os.path.join(save_dir, 'fitted_scaler.pkl'))\n",
    "print(f\"StandardScaler fitted and saved to {os.path.join(save_dir, 'fitted_scaler.pkl')}\")\n",
    "\n",
    "# Apply scaling to all training data\n",
    "X_scaled = scaler.transform(df_x)"
   ]
  },
  {
   "cell_type": "code",
   "execution_count": 14,
   "id": "5e2b8c4e",
   "metadata": {},
   "outputs": [],
   "source": [
    "# === Step 1: Prepare benign and attack subsets ===\n",
    "benign_mask = df_y_binary == 0  # Use '0' for benign\n",
    "X_normal = X_scaled[benign_mask]"
   ]
  },
  {
   "cell_type": "code",
   "execution_count": 15,
   "id": "b9809209",
   "metadata": {},
   "outputs": [],
   "source": [
    "# === Step 2: Build the Autoencoder ===\n",
    "input_dim = X_normal.shape[1]\n",
    "input_layer = Input(shape=(input_dim,))\n",
    "encode_layer_1 = Dense(64, activation='relu')(input_layer)\n",
    "encode_layer_2 = Dense(32, activation='relu')(encode_layer_1)\n",
    "bottleneck = Dense(16, activation='relu')(encode_layer_2)\n",
    "\n",
    "decode_layer_1 = Dense(32, activation='relu')(bottleneck)\n",
    "decode_layer_2 = Dense(64, activation='relu')(decode_layer_1)\n",
    "output_layer = Dense(input_dim, activation='linear')(decode_layer_2)\n",
    "\n",
    "autoencoder = Model(inputs=input_layer, outputs=output_layer)\n",
    "autoencoder.compile(optimizer=Adam(learning_rate=1e-3), loss='mse')"
   ]
  },
  {
   "cell_type": "code",
   "execution_count": 16,
   "id": "ca155516",
   "metadata": {},
   "outputs": [
    {
     "name": "stdout",
     "output_type": "stream",
     "text": [
      "Epoch 1/50\n",
      "\u001b[1m6283/6283\u001b[0m \u001b[32m━━━━━━━━━━━━━━━━━━━━\u001b[0m\u001b[37m\u001b[0m \u001b[1m7s\u001b[0m 1ms/step - loss: 0.3918 - val_loss: 1.3372\n",
      "Epoch 2/50\n",
      "\u001b[1m6283/6283\u001b[0m \u001b[32m━━━━━━━━━━━━━━━━━━━━\u001b[0m\u001b[37m\u001b[0m \u001b[1m6s\u001b[0m 979us/step - loss: 0.2749 - val_loss: 1.1980\n",
      "Epoch 3/50\n",
      "\u001b[1m6283/6283\u001b[0m \u001b[32m━━━━━━━━━━━━━━━━━━━━\u001b[0m\u001b[37m\u001b[0m \u001b[1m6s\u001b[0m 948us/step - loss: 0.2587 - val_loss: 1.0182\n",
      "Epoch 4/50\n",
      "\u001b[1m6283/6283\u001b[0m \u001b[32m━━━━━━━━━━━━━━━━━━━━\u001b[0m\u001b[37m\u001b[0m \u001b[1m6s\u001b[0m 988us/step - loss: 0.2162 - val_loss: 1.0756\n",
      "Epoch 5/50\n",
      "\u001b[1m6283/6283\u001b[0m \u001b[32m━━━━━━━━━━━━━━━━━━━━\u001b[0m\u001b[37m\u001b[0m \u001b[1m6s\u001b[0m 1ms/step - loss: 0.1453 - val_loss: 0.6633\n",
      "Epoch 6/50\n",
      "\u001b[1m6283/6283\u001b[0m \u001b[32m━━━━━━━━━━━━━━━━━━━━\u001b[0m\u001b[37m\u001b[0m \u001b[1m6s\u001b[0m 995us/step - loss: 0.1596 - val_loss: 1.2759\n",
      "Epoch 7/50\n",
      "\u001b[1m6283/6283\u001b[0m \u001b[32m━━━━━━━━━━━━━━━━━━━━\u001b[0m\u001b[37m\u001b[0m \u001b[1m6s\u001b[0m 998us/step - loss: 0.1427 - val_loss: 1.0448\n",
      "Epoch 8/50\n",
      "\u001b[1m6283/6283\u001b[0m \u001b[32m━━━━━━━━━━━━━━━━━━━━\u001b[0m\u001b[37m\u001b[0m \u001b[1m6s\u001b[0m 998us/step - loss: 0.1977 - val_loss: 0.9952\n",
      "Epoch 9/50\n",
      "\u001b[1m6283/6283\u001b[0m \u001b[32m━━━━━━━━━━━━━━━━━━━━\u001b[0m\u001b[37m\u001b[0m \u001b[1m6s\u001b[0m 994us/step - loss: 0.2105 - val_loss: 0.5659\n",
      "Epoch 10/50\n",
      "\u001b[1m6283/6283\u001b[0m \u001b[32m━━━━━━━━━━━━━━━━━━━━\u001b[0m\u001b[37m\u001b[0m \u001b[1m6s\u001b[0m 1ms/step - loss: 0.2208 - val_loss: 0.8436\n",
      "Epoch 11/50\n",
      "\u001b[1m6283/6283\u001b[0m \u001b[32m━━━━━━━━━━━━━━━━━━━━\u001b[0m\u001b[37m\u001b[0m \u001b[1m6s\u001b[0m 997us/step - loss: 0.0778 - val_loss: 0.6542\n",
      "Epoch 12/50\n",
      "\u001b[1m6283/6283\u001b[0m \u001b[32m━━━━━━━━━━━━━━━━━━━━\u001b[0m\u001b[37m\u001b[0m \u001b[1m6s\u001b[0m 993us/step - loss: 0.1384 - val_loss: 1.4450\n",
      "Epoch 13/50\n",
      "\u001b[1m6283/6283\u001b[0m \u001b[32m━━━━━━━━━━━━━━━━━━━━\u001b[0m\u001b[37m\u001b[0m \u001b[1m6s\u001b[0m 989us/step - loss: 0.1425 - val_loss: 1.5698\n",
      "Epoch 14/50\n",
      "\u001b[1m6283/6283\u001b[0m \u001b[32m━━━━━━━━━━━━━━━━━━━━\u001b[0m\u001b[37m\u001b[0m \u001b[1m6s\u001b[0m 993us/step - loss: 0.3848 - val_loss: 0.9938\n",
      "Epoch 15/50\n",
      "\u001b[1m6283/6283\u001b[0m \u001b[32m━━━━━━━━━━━━━━━━━━━━\u001b[0m\u001b[37m\u001b[0m \u001b[1m6s\u001b[0m 994us/step - loss: 0.3044 - val_loss: 0.7235\n",
      "Epoch 16/50\n",
      "\u001b[1m6283/6283\u001b[0m \u001b[32m━━━━━━━━━━━━━━━━━━━━\u001b[0m\u001b[37m\u001b[0m \u001b[1m6s\u001b[0m 1ms/step - loss: 0.1064 - val_loss: 0.6305\n",
      "Epoch 17/50\n",
      "\u001b[1m6283/6283\u001b[0m \u001b[32m━━━━━━━━━━━━━━━━━━━━\u001b[0m\u001b[37m\u001b[0m \u001b[1m6s\u001b[0m 998us/step - loss: 0.0611 - val_loss: 0.7225\n",
      "Epoch 18/50\n",
      "\u001b[1m6283/6283\u001b[0m \u001b[32m━━━━━━━━━━━━━━━━━━━━\u001b[0m\u001b[37m\u001b[0m \u001b[1m6s\u001b[0m 991us/step - loss: 0.1400 - val_loss: 0.7420\n",
      "Epoch 19/50\n",
      "\u001b[1m6283/6283\u001b[0m \u001b[32m━━━━━━━━━━━━━━━━━━━━\u001b[0m\u001b[37m\u001b[0m \u001b[1m6s\u001b[0m 992us/step - loss: 0.1948 - val_loss: 0.8742\n",
      "Epoch 20/50\n",
      "\u001b[1m6283/6283\u001b[0m \u001b[32m━━━━━━━━━━━━━━━━━━━━\u001b[0m\u001b[37m\u001b[0m \u001b[1m6s\u001b[0m 995us/step - loss: 0.1743 - val_loss: 0.5834\n",
      "Epoch 21/50\n",
      "\u001b[1m6283/6283\u001b[0m \u001b[32m━━━━━━━━━━━━━━━━━━━━\u001b[0m\u001b[37m\u001b[0m \u001b[1m6s\u001b[0m 1ms/step - loss: 0.0546 - val_loss: 1.0713\n",
      "Epoch 22/50\n",
      "\u001b[1m6283/6283\u001b[0m \u001b[32m━━━━━━━━━━━━━━━━━━━━\u001b[0m\u001b[37m\u001b[0m \u001b[1m6s\u001b[0m 998us/step - loss: 0.1278 - val_loss: 0.6808\n",
      "Epoch 23/50\n",
      "\u001b[1m6283/6283\u001b[0m \u001b[32m━━━━━━━━━━━━━━━━━━━━\u001b[0m\u001b[37m\u001b[0m \u001b[1m6s\u001b[0m 997us/step - loss: 0.1494 - val_loss: 0.4220\n",
      "Epoch 24/50\n",
      "\u001b[1m6283/6283\u001b[0m \u001b[32m━━━━━━━━━━━━━━━━━━━━\u001b[0m\u001b[37m\u001b[0m \u001b[1m6s\u001b[0m 995us/step - loss: 0.1047 - val_loss: 0.5768\n",
      "Epoch 25/50\n",
      "\u001b[1m6283/6283\u001b[0m \u001b[32m━━━━━━━━━━━━━━━━━━━━\u001b[0m\u001b[37m\u001b[0m \u001b[1m6s\u001b[0m 996us/step - loss: 0.0879 - val_loss: 0.5308\n",
      "Epoch 26/50\n",
      "\u001b[1m6283/6283\u001b[0m \u001b[32m━━━━━━━━━━━━━━━━━━━━\u001b[0m\u001b[37m\u001b[0m \u001b[1m6s\u001b[0m 995us/step - loss: 0.0649 - val_loss: 0.5836\n",
      "Epoch 27/50\n",
      "\u001b[1m6283/6283\u001b[0m \u001b[32m━━━━━━━━━━━━━━━━━━━━\u001b[0m\u001b[37m\u001b[0m \u001b[1m6s\u001b[0m 994us/step - loss: 0.0554 - val_loss: 0.4405\n",
      "Epoch 28/50\n",
      "\u001b[1m6283/6283\u001b[0m \u001b[32m━━━━━━━━━━━━━━━━━━━━\u001b[0m\u001b[37m\u001b[0m \u001b[1m6s\u001b[0m 996us/step - loss: 0.0723 - val_loss: 0.5718\n",
      "Epoch 29/50\n",
      "\u001b[1m6283/6283\u001b[0m \u001b[32m━━━━━━━━━━━━━━━━━━━━\u001b[0m\u001b[37m\u001b[0m \u001b[1m6s\u001b[0m 999us/step - loss: 0.0836 - val_loss: 0.5858\n",
      "Epoch 30/50\n",
      "\u001b[1m6283/6283\u001b[0m \u001b[32m━━━━━━━━━━━━━━━━━━━━\u001b[0m\u001b[37m\u001b[0m \u001b[1m6s\u001b[0m 991us/step - loss: 0.0612 - val_loss: 0.9246\n",
      "Epoch 31/50\n",
      "\u001b[1m6283/6283\u001b[0m \u001b[32m━━━━━━━━━━━━━━━━━━━━\u001b[0m\u001b[37m\u001b[0m \u001b[1m6s\u001b[0m 986us/step - loss: 0.3693 - val_loss: 0.4287\n",
      "Epoch 32/50\n",
      "\u001b[1m6283/6283\u001b[0m \u001b[32m━━━━━━━━━━━━━━━━━━━━\u001b[0m\u001b[37m\u001b[0m \u001b[1m6s\u001b[0m 986us/step - loss: 0.0595 - val_loss: 0.6628\n",
      "Epoch 33/50\n",
      "\u001b[1m6283/6283\u001b[0m \u001b[32m━━━━━━━━━━━━━━━━━━━━\u001b[0m\u001b[37m\u001b[0m \u001b[1m6s\u001b[0m 996us/step - loss: 0.1061 - val_loss: 0.5431\n",
      "Epoch 34/50\n",
      "\u001b[1m6283/6283\u001b[0m \u001b[32m━━━━━━━━━━━━━━━━━━━━\u001b[0m\u001b[37m\u001b[0m \u001b[1m6s\u001b[0m 995us/step - loss: 0.0689 - val_loss: 0.6523\n",
      "Epoch 35/50\n",
      "\u001b[1m6283/6283\u001b[0m \u001b[32m━━━━━━━━━━━━━━━━━━━━\u001b[0m\u001b[37m\u001b[0m \u001b[1m6s\u001b[0m 998us/step - loss: 0.0726 - val_loss: 0.7403\n",
      "Epoch 36/50\n",
      "\u001b[1m6283/6283\u001b[0m \u001b[32m━━━━━━━━━━━━━━━━━━━━\u001b[0m\u001b[37m\u001b[0m \u001b[1m6s\u001b[0m 994us/step - loss: 0.0842 - val_loss: 0.7201\n",
      "Epoch 37/50\n",
      "\u001b[1m6283/6283\u001b[0m \u001b[32m━━━━━━━━━━━━━━━━━━━━\u001b[0m\u001b[37m\u001b[0m \u001b[1m6s\u001b[0m 1000us/step - loss: 0.0463 - val_loss: 0.8170\n",
      "Epoch 38/50\n",
      "\u001b[1m6283/6283\u001b[0m \u001b[32m━━━━━━━━━━━━━━━━━━━━\u001b[0m\u001b[37m\u001b[0m \u001b[1m6s\u001b[0m 1ms/step - loss: 0.0637 - val_loss: 0.9648\n",
      "Epoch 39/50\n",
      "\u001b[1m6283/6283\u001b[0m \u001b[32m━━━━━━━━━━━━━━━━━━━━\u001b[0m\u001b[37m\u001b[0m \u001b[1m6s\u001b[0m 1ms/step - loss: 0.0737 - val_loss: 0.5075\n",
      "Epoch 40/50\n",
      "\u001b[1m6283/6283\u001b[0m \u001b[32m━━━━━━━━━━━━━━━━━━━━\u001b[0m\u001b[37m\u001b[0m \u001b[1m6s\u001b[0m 995us/step - loss: 0.1047 - val_loss: 0.3467\n",
      "Epoch 41/50\n",
      "\u001b[1m6283/6283\u001b[0m \u001b[32m━━━━━━━━━━━━━━━━━━━━\u001b[0m\u001b[37m\u001b[0m \u001b[1m6s\u001b[0m 1ms/step - loss: 0.0891 - val_loss: 0.6750\n",
      "Epoch 42/50\n",
      "\u001b[1m6283/6283\u001b[0m \u001b[32m━━━━━━━━━━━━━━━━━━━━\u001b[0m\u001b[37m\u001b[0m \u001b[1m6s\u001b[0m 995us/step - loss: 0.1146 - val_loss: 0.3740\n",
      "Epoch 43/50\n",
      "\u001b[1m6283/6283\u001b[0m \u001b[32m━━━━━━━━━━━━━━━━━━━━\u001b[0m\u001b[37m\u001b[0m \u001b[1m6s\u001b[0m 996us/step - loss: 0.0637 - val_loss: 0.9654\n",
      "Epoch 44/50\n",
      "\u001b[1m6283/6283\u001b[0m \u001b[32m━━━━━━━━━━━━━━━━━━━━\u001b[0m\u001b[37m\u001b[0m \u001b[1m6s\u001b[0m 992us/step - loss: 0.0815 - val_loss: 0.5677\n",
      "Epoch 45/50\n",
      "\u001b[1m6283/6283\u001b[0m \u001b[32m━━━━━━━━━━━━━━━━━━━━\u001b[0m\u001b[37m\u001b[0m \u001b[1m6s\u001b[0m 993us/step - loss: 0.0923 - val_loss: 0.4899\n",
      "Epoch 46/50\n",
      "\u001b[1m6283/6283\u001b[0m \u001b[32m━━━━━━━━━━━━━━━━━━━━\u001b[0m\u001b[37m\u001b[0m \u001b[1m6s\u001b[0m 990us/step - loss: 0.1091 - val_loss: 0.7899\n",
      "Epoch 47/50\n",
      "\u001b[1m6283/6283\u001b[0m \u001b[32m━━━━━━━━━━━━━━━━━━━━\u001b[0m\u001b[37m\u001b[0m \u001b[1m6s\u001b[0m 990us/step - loss: 0.0876 - val_loss: 1.0445\n",
      "Epoch 48/50\n",
      "\u001b[1m6283/6283\u001b[0m \u001b[32m━━━━━━━━━━━━━━━━━━━━\u001b[0m\u001b[37m\u001b[0m \u001b[1m6s\u001b[0m 994us/step - loss: 0.1746 - val_loss: 0.3921\n",
      "Epoch 49/50\n",
      "\u001b[1m6283/6283\u001b[0m \u001b[32m━━━━━━━━━━━━━━━━━━━━\u001b[0m\u001b[37m\u001b[0m \u001b[1m6s\u001b[0m 989us/step - loss: 0.0347 - val_loss: 0.6167\n",
      "Epoch 50/50\n",
      "\u001b[1m6283/6283\u001b[0m \u001b[32m━━━━━━━━━━━━━━━━━━━━\u001b[0m\u001b[37m\u001b[0m \u001b[1m6s\u001b[0m 987us/step - loss: 0.1318 - val_loss: 0.4044\n"
     ]
    },
    {
     "data": {
      "text/plain": [
       "<keras.src.callbacks.history.History at 0x1f0588c4290>"
      ]
     },
     "execution_count": 16,
     "metadata": {},
     "output_type": "execute_result"
    }
   ],
   "source": [
    "# === Step 3: Train on benign traffic only ===\n",
    "autoencoder.fit(\n",
    "    X_normal, X_normal,\n",
    "    epochs=50,\n",
    "    batch_size=64,\n",
    "    validation_split=0.1,\n",
    "    shuffle=True,\n",
    "    verbose=1\n",
    ")\n"
   ]
  },
  {
   "cell_type": "code",
   "execution_count": 17,
   "id": "da73142e",
   "metadata": {},
   "outputs": [
    {
     "name": "stderr",
     "output_type": "stream",
     "text": [
      "WARNING:absl:You are saving your model as an HDF5 file via `model.save()` or `keras.saving.save_model(model)`. This file format is considered legacy. We recommend using instead the native Keras format, e.g. `model.save('my_model.keras')` or `keras.saving.save_model(model, 'my_model.keras')`. \n"
     ]
    },
    {
     "name": "stdout",
     "output_type": "stream",
     "text": [
      "Autoencoder model trained and saved to trained_models_and_params\\trained_autoencoder.h5\n"
     ]
    }
   ],
   "source": [
    "autoencoder.save(os.path.join(save_dir, 'trained_autoencoder.h5'))\n",
    "print(f\"Autoencoder model trained and saved to {os.path.join(save_dir, 'trained_autoencoder.h5')}\")"
   ]
  },
  {
   "cell_type": "code",
   "execution_count": 18,
   "id": "08b560d0",
   "metadata": {},
   "outputs": [
    {
     "name": "stdout",
     "output_type": "stream",
     "text": [
      "\u001b[1m32768/32768\u001b[0m \u001b[32m━━━━━━━━━━━━━━━━━━━━\u001b[0m\u001b[37m\u001b[0m \u001b[1m16s\u001b[0m 478us/step\n",
      "Benign Reconstruction Error Statistics:\n",
      "count    446772.000000\n",
      "mean          0.108572\n",
      "std          20.938884\n",
      "min           0.000009\n",
      "25%           0.000047\n",
      "50%           0.000089\n",
      "75%           0.000234\n",
      "max        6069.007420\n",
      "dtype: float64\n"
     ]
    }
   ],
   "source": [
    "# === Step 4: Compute reconstruction error ===\n",
    "reconstructed_all = autoencoder.predict(X_scaled)\n",
    "reconstruction_error = np.mean(np.square(X_scaled - reconstructed_all), axis=1)\n",
    "\n",
    "# Threshold = 95th percentile of benign reconstruction error\n",
    "benign_recon_error = reconstruction_error[benign_mask]\n",
    "print(f\"Benign Reconstruction Error Statistics:\\n{pd.Series(benign_recon_error).describe()}\")\n",
    "threshold = np.percentile(benign_recon_error, 95)\n",
    "\n",
    "# Binary predictions (1 = anomaly)\n",
    "predictions = reconstruction_error > threshold"
   ]
  },
  {
   "cell_type": "code",
   "execution_count": 19,
   "id": "c96ca4d1",
   "metadata": {},
   "outputs": [
    {
     "name": "stdout",
     "output_type": "stream",
     "text": [
      "Anomaly threshold (0.001812) saved to trained_models_and_params\\threshold.json\n"
     ]
    }
   ],
   "source": [
    "with open(os.path.join(save_dir, 'threshold.json'), 'w') as f:\n",
    "    json.dump({\"threshold\": threshold}, f)\n",
    "print(f\"Anomaly threshold ({threshold:.6f}) saved to {os.path.join(save_dir, 'threshold.json')}\")\n"
   ]
  },
  {
   "cell_type": "code",
   "execution_count": 21,
   "id": "c3ee9e4a",
   "metadata": {},
   "outputs": [
    {
     "name": "stdout",
     "output_type": "stream",
     "text": [
      "AUC Score: 0.9809\n",
      "Threshold (95th percentile): 0.001812\n",
      "Detected Anomalies: 624141/1048574\n"
     ]
    }
   ],
   "source": [
    "# === Step 5: Evaluate performance ===\n",
    "\n",
    "auc = roc_auc_score(df_y_binary, reconstruction_error)\n",
    "num_anomalies = predictions.sum()\n",
    "total = len(predictions)\n",
    "\n",
    "print(f\"AUC Score: {auc:.4f}\")\n",
    "print(f\"Threshold (95th percentile): {threshold:.6f}\")\n",
    "print(f\"Detected Anomalies: {num_anomalies}/{total}\")"
   ]
  },
  {
   "cell_type": "code",
   "execution_count": 22,
   "id": "42e98bbc",
   "metadata": {},
   "outputs": [
    {
     "name": "stdout",
     "output_type": "stream",
     "text": [
      "\n",
      "--- Autoencoder Anomaly Detection Evaluation ---\n",
      "Total Samples: 1048574\n",
      "True Anomalies: 601802 (57.39%)\n",
      "Predicted Anomalies: 624141\n",
      "\n",
      "Classification Report:\n",
      "              precision    recall  f1-score   support\n",
      "\n",
      "      Normal       1.00      0.95      0.97    446772\n",
      "     Anomaly       0.96      1.00      0.98    601802\n",
      "\n",
      "    accuracy                           0.98   1048574\n",
      "   macro avg       0.98      0.97      0.98   1048574\n",
      "weighted avg       0.98      0.98      0.98   1048574\n",
      "\n"
     ]
    }
   ],
   "source": [
    "# --- Evaluation ---\n",
    "y_pred_anomaly = (reconstruction_error > threshold).astype(int)\n",
    "\n",
    "print(\"\\n--- Autoencoder Anomaly Detection Evaluation ---\")\n",
    "print(f\"Total Samples: {len(df_y_binary)}\")\n",
    "print(f\"True Anomalies: {df_y_binary.sum()} ({df_y_binary.sum()/len(df_y_binary)*100:.2f}%)\")\n",
    "print(f\"Predicted Anomalies: { y_pred_anomaly.sum()}\")\n",
    "\n",
    "print(\"\\nClassification Report:\")\n",
    "# Use df_y_binary for comparison, which aligns with X_scaled_full\n",
    "print(classification_report(df_y_binary, y_pred_anomaly , target_names=['Normal', 'Anomaly']))"
   ]
  }
 ],
 "metadata": {
  "kernelspec": {
   "display_name": "Python 3",
   "language": "python",
   "name": "python3"
  },
  "language_info": {
   "codemirror_mode": {
    "name": "ipython",
    "version": 3
   },
   "file_extension": ".py",
   "mimetype": "text/x-python",
   "name": "python",
   "nbconvert_exporter": "python",
   "pygments_lexer": "ipython3",
   "version": "3.11.9"
  }
 },
 "nbformat": 4,
 "nbformat_minor": 5
}
