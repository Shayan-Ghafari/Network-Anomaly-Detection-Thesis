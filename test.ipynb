{
 "cells": [
  {
   "cell_type": "code",
   "execution_count": 51,
   "id": "e0e9b55a",
   "metadata": {},
   "outputs": [],
   "source": [
    "import tensorflow as tf\n",
    "import pandas as pd\n",
    "import numpy as np\n",
    "from sklearn.metrics import classification_report, roc_auc_score\n",
    "from tensorflow.keras.models import load_model \n",
    "import os\n",
    "import joblib # For loading scikit-learn objects\n",
    "import json # For loading the threshold\n",
    "import warnings"
   ]
  },
  {
   "cell_type": "code",
   "execution_count": 52,
   "id": "4fb34d0e",
   "metadata": {},
   "outputs": [],
   "source": [
    "warnings.filterwarnings('ignore') "
   ]
  },
  {
   "cell_type": "code",
   "execution_count": 53,
   "id": "e8592e27",
   "metadata": {},
   "outputs": [],
   "source": [
    "saved_knowledge = \"trained_models_and_params\"\n",
    "file_directory = \"processed/\""
   ]
  },
  {
   "cell_type": "code",
   "execution_count": 54,
   "id": "3841a12d",
   "metadata": {},
   "outputs": [],
   "source": [
    "test_file_to_process = \"Thursday-15-02-2018_TrafficForML_CICFlowMeter.csv\" # Example file name\n",
    "full_file_path = os.path.join(file_directory, test_file_to_process)"
   ]
  },
  {
   "cell_type": "code",
   "execution_count": 55,
   "id": "53b20dd8",
   "metadata": {},
   "outputs": [
    {
     "name": "stdout",
     "output_type": "stream",
     "text": [
      "  StandardScaler loaded successfully for preprocessing.\n"
     ]
    }
   ],
   "source": [
    "try:\n",
    "    loaded_scaler = joblib.load(os.path.join(saved_knowledge, 'fitted_scaler.pkl'))\n",
    "    print(\"  StandardScaler loaded successfully for preprocessing.\")\n",
    "except FileNotFoundError:\n",
    "    print(f\"Error: fitted_scaler.pkl not found in {saved_knowledge}. Ensure saving ran successfully.\")\n",
    "    exit()"
   ]
  },
  {
   "cell_type": "code",
   "execution_count": 56,
   "id": "fab96f62",
   "metadata": {},
   "outputs": [
    {
     "name": "stderr",
     "output_type": "stream",
     "text": [
      "WARNING:absl:Compiled the loaded model, but the compiled metrics have yet to be built. `model.compile_metrics` will be empty until you train or evaluate the model.\n"
     ]
    },
    {
     "name": "stdout",
     "output_type": "stream",
     "text": [
      "  Autoencoder model loaded successfully.\n"
     ]
    }
   ],
   "source": [
    "try:\n",
    "    loaded_autoencoder_model = load_model(\n",
    "        os.path.join(saved_knowledge, 'trained_autoencoder.h5'),\n",
    "        custom_objects={'mse': tf.keras.metrics.MeanSquaredError()} # Add this line\n",
    "    )\n",
    "    print(\"  Autoencoder model loaded successfully.\")\n",
    "except Exception as e:\n",
    "    print(f\"Error loading Autoencoder model: {e}. Ensure saving ran successfully.\")\n",
    "    exit()"
   ]
  },
  {
   "cell_type": "code",
   "execution_count": 57,
   "id": "b5966690",
   "metadata": {},
   "outputs": [
    {
     "name": "stdout",
     "output_type": "stream",
     "text": [
      "  Anomaly threshold loaded: 0.001812\n"
     ]
    }
   ],
   "source": [
    "try:\n",
    "    with open(os.path.join(saved_knowledge, 'threshold.json'), 'r') as f:\n",
    "        loaded_anomaly_threshold = json.load(f)[\"threshold\"]\n",
    "    print(f\"  Anomaly threshold loaded: {loaded_anomaly_threshold:.6f}\")\n",
    "except FileNotFoundError:\n",
    "    print(f\"Error: anomaly_threshold.json not found in {saved_knowledge}. Ensure saving ran successfully.\")\n",
    "    exit()"
   ]
  },
  {
   "cell_type": "code",
   "execution_count": 58,
   "id": "d9d9ce88",
   "metadata": {},
   "outputs": [],
   "source": [
    "def clean_raw_dataframe(df_raw_input):\n",
    "    df_proc = df_raw_input.copy()\n",
    "    df_proc.columns = df_proc.columns.str.strip()\n",
    "    df_proc = df_proc[df_proc['Label'] != 'Label']\n",
    "\n",
    "    columns_to_drop = ['Dst Port', 'Protocol', 'Timestamp']\n",
    "    df_features_and_label = df_proc.drop(columns=columns_to_drop, errors='ignore')\n",
    "\n",
    "    for col in df_features_and_label.columns.drop('Label', errors='ignore'):\n",
    "        df_features_and_label[col] = pd.to_numeric(df_features_and_label[col], errors='coerce')\n",
    "\n",
    "    df_features_and_label.replace([np.inf, -np.inf], np.nan, inplace=True)\n",
    "    for column in df_features_and_label.columns:\n",
    "        if df_features_and_label[column].isnull().any():\n",
    "            df_features_and_label[column].fillna(df_features_and_label[column].mean(), inplace=True)\n",
    "    \n",
    "    return df_features_and_label"
   ]
  },
  {
   "cell_type": "code",
   "execution_count": 59,
   "id": "e67ec10c",
   "metadata": {},
   "outputs": [],
   "source": [
    "def preprocess_for_testing(df_raw_input, scaler_obj):\n",
    "    df_cleaned = clean_raw_dataframe(df_raw_input)\n",
    "    \n",
    "    y_true_binary = df_cleaned['Label'].apply(lambda x: 0 if x == 'Benign' else 1).copy()\n",
    "    X_features = df_cleaned.drop('Label', axis=1)\n",
    "\n",
    "    # Use the *loaded* scaler to transform (NOT fit) the new data\n",
    "    X_scaled = scaler_obj.transform(X_features)\n",
    "\n",
    "    return X_scaled, y_true_binary"
   ]
  },
  {
   "cell_type": "code",
   "execution_count": 60,
   "id": "6dbe8d59",
   "metadata": {},
   "outputs": [
    {
     "name": "stdout",
     "output_type": "stream",
     "text": [
      "  Successfully loaded Thursday-15-02-2018_TrafficForML_CICFlowMeter.csv. Total rows: 1048575\n",
      "  Processed data shape: (1048575, 76)\n",
      "  True anomalies in file: 52498 / 1048575\n",
      "\n",
      "  --- Autoencoder Results for this file ---\n",
      "  Autoencoder AUC: 0.3337\n",
      "  Autoencoder Classification Report:\n",
      "              precision    recall  f1-score   support\n",
      "\n",
      "      Normal       0.00      0.00      0.00    996077\n",
      "     Anomaly       0.05      1.00      0.10     52498\n",
      "\n",
      "    accuracy                           0.05   1048575\n",
      "   macro avg       0.03      0.50      0.05   1048575\n",
      "weighted avg       0.00      0.05      0.00   1048575\n",
      "\n"
     ]
    }
   ],
   "source": [
    "try:\n",
    "    # Load the specified test file\n",
    "    current_df = pd.read_csv(full_file_path)\n",
    "    print(f\"  Successfully loaded {test_file_to_process}. Total rows: {current_df.shape[0]}\")\n",
    "\n",
    "    # Preprocess the current_df using your loaded_scaler\n",
    "    X_scaled_current, y_true_binary_current = preprocess_for_testing(current_df, loaded_scaler)\n",
    "\n",
    "    if X_scaled_current.shape[0] == 0:\n",
    "        print(f\"  Warning: No data remaining after preprocessing for {test_file_to_process}. Skipping Autoencoder application.\")\n",
    "    else:\n",
    "        print(f\"  Processed data shape: {X_scaled_current.shape}\")\n",
    "        print(f\"  True anomalies in file: {y_true_binary_current.sum()} / {len(y_true_binary_current)}\")\n",
    "\n",
    "        # Apply Autoencoder for anomaly detection\n",
    "        reconstructions_ae = loaded_autoencoder_model.predict(X_scaled_current, verbose=0)\n",
    "        mse_errors_ae = np.mean(np.square(X_scaled_current - reconstructions_ae), axis=1)\n",
    "\n",
    "        # Classify using the *loaded anomaly threshold*\n",
    "        y_pred_binary_ae = (mse_errors_ae > loaded_anomaly_threshold).astype(int)\n",
    "\n",
    "        # Evaluate Autoencoder performance for this file\n",
    "        print(\"\\n  --- Autoencoder Results for this file ---\")\n",
    "        roc_auc_ae = roc_auc_score(y_true_binary_current, mse_errors_ae)\n",
    "        print(f\"  Autoencoder AUC: {roc_auc_ae:.4f}\")\n",
    "        print(\"  Autoencoder Classification Report:\")\n",
    "        print(classification_report(y_true_binary_current, y_pred_binary_ae, target_names=['Normal', 'Anomaly'], zero_division=0))\n",
    "\n",
    "except Exception as e:\n",
    "    # This catches any errors during loading, preprocessing, or model application for the single file.\n",
    "    print(f\"!!! CRASH/ERROR ALERT for {test_file_to_process} !!! An error occurred during processing: {e}\")\n"
   ]
  }
 ],
 "metadata": {
  "kernelspec": {
   "display_name": "Python 3",
   "language": "python",
   "name": "python3"
  },
  "language_info": {
   "codemirror_mode": {
    "name": "ipython",
    "version": 3
   },
   "file_extension": ".py",
   "mimetype": "text/x-python",
   "name": "python",
   "nbconvert_exporter": "python",
   "pygments_lexer": "ipython3",
   "version": "3.11.9"
  }
 },
 "nbformat": 4,
 "nbformat_minor": 5
}
